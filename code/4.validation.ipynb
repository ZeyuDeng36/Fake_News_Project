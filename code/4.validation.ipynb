{
 "cells": [
  {
   "cell_type": "markdown",
   "metadata": {},
   "source": [
    "# Part 4: Validation and cross-domain performance"
   ]
  },
  {
   "cell_type": "code",
   "execution_count": 13,
   "metadata": {},
   "outputs": [
    {
     "name": "stdout",
     "output_type": "stream",
     "text": [
      "Ratio of ones: 0.3553081355601133\n"
     ]
    }
   ],
   "source": [
    "import numpy as np\n",
    "from scipy.sparse import csr_matrix, hstack, save_npz\n",
    "simple_BOW = np.load('../Simple_995_BBC.npz', allow_pickle=True)\n",
    "simple_ONEHOT = np.load('../Simple_995.npz', allow_pickle=True)\n",
    "advanced = np.load(\"../advanced_features.npz\", allow_pickle=True)\n",
    "liar_TFIDF = np.load(\"../LIAR_TFIDF.npz\", allow_pickle=True)\n",
    "liar_BOW = np.load(\"../LIAR_BOW.npz\", allow_pickle=True)\n",
    "liar_ONEHOT = np.load(\"../LIAR_ONEHOT.npz\", allow_pickle=True)\n",
    "ones_ratio = sum(liar_ONEHOT['Y_test'].ravel()) / len(liar_ONEHOT['Y_test'].ravel())\n",
    "print(\"Ratio of ones:\", ones_ratio)"
   ]
  },
  {
   "cell_type": "markdown",
   "metadata": {},
   "source": [
    "# Simple models"
   ]
  },
  {
   "cell_type": "code",
   "execution_count": 9,
   "metadata": {},
   "outputs": [
    {
     "name": "stdout",
     "output_type": "stream",
     "text": [
      "Simple model using logistic regression and one-hot encoding on FakeNews dataset:\n",
      "\n",
      "                  Predicted \"real news\"  Predicted \"fake news\"\n",
      "True \"real news\"                  40141                   1466\n",
      "True \"fake news\"                  33529                   9390\n",
      "\n",
      "Accuracy: 0.5859853772803635\n",
      "Precision: 0.5448757974752274\n",
      "Recall: 0.9647655442593794\n",
      "F1 score: 0.6964268674583829\n",
      "Simple model using logistic regression and one-hot encoding on LIAR dataset:\n",
      "\n",
      "                  Predicted \"real news\"  Predicted \"fake news\"\n",
      "True \"real news\"                   3638                      0\n",
      "True \"fake news\"                   6601                      0\n",
      "\n",
      "Accuracy: 0.3553081355601133\n",
      "Precision: 0.3553081355601133\n",
      "Recall: 1.0\n",
      "F1 score: 0.5243208186207393\n"
     ]
    }
   ],
   "source": [
    "from scipy.sparse import hstack\n",
    "from sklearn.linear_model import LogisticRegression\n",
    "from sklearn.metrics import classification_report, f1_score, accuracy_score, precision_score, recall_score, confusion_matrix\n",
    "import pickle\n",
    "import pandas as pd\n",
    "\n",
    "with open(\"../simple_model_ONEHOT.pkl\",'rb') as f:\n",
    "    simple_model_ONEHOT = pickle.load(f)\n",
    "\n",
    "#load features\n",
    "X_test = simple_ONEHOT['X_test_content_ONEHOT'].item()\n",
    "Y_test = simple_ONEHOT['Y_test'].ravel()\n",
    "X_test_LIAR = liar_ONEHOT['X_test'].item()\n",
    "Y_test_LIAR=liar_ONEHOT['Y_test'].ravel()\n",
    "\n",
    "#validate model\n",
    "Y_pred = simple_model_ONEHOT.predict(X_test)\n",
    "print(\"Simple model using logistic regression and one-hot encoding on FakeNews dataset:\")\n",
    "df = pd.DataFrame(confusion_matrix(Y_test, Y_pred, labels=[1,0]), index=['True \"real news\"','True \"fake news\"'], columns=['Predicted \"real news\"','Predicted \"fake news\"'])\n",
    "print(f\"\\n{df}\\n\")\n",
    "print(\"Accuracy:\",accuracy_score(Y_test,Y_pred))\n",
    "print(\"Precision:\",precision_score(Y_test,Y_pred,average=\"binary\"))\n",
    "print(\"Recall:\",recall_score(Y_test,Y_pred,average=\"binary\"))\n",
    "print(\"F1 score:\",f1_score(Y_test,Y_pred,average=\"binary\"))\n",
    "\n",
    "#LIAR\n",
    "print(\"Simple model using logistic regression and one-hot encoding on LIAR dataset:\")\n",
    "Y_pred_LIAR = simple_model_ONEHOT.predict(X_test_LIAR)\n",
    "df = pd.DataFrame(confusion_matrix(Y_test_LIAR, Y_pred_LIAR, labels=[1,0]), index=['True \"real news\"','True \"fake news\"'], columns=['Predicted \"real news\"','Predicted \"fake news\"'])\n",
    "print(f\"\\n{df}\\n\")\n",
    "print(\"Accuracy:\",accuracy_score(Y_test_LIAR,Y_pred_LIAR))\n",
    "print(\"Precision:\",precision_score(Y_test_LIAR,Y_pred_LIAR,average=\"binary\"))\n",
    "print(\"Recall:\",recall_score(Y_test_LIAR,Y_pred_LIAR,average=\"binary\"))\n",
    "print(\"F1 score:\",f1_score(Y_test_LIAR,Y_pred_LIAR,average=\"binary\"))\n",
    "\n"
   ]
  },
  {
   "cell_type": "code",
   "execution_count": 10,
   "metadata": {},
   "outputs": [
    {
     "name": "stdout",
     "output_type": "stream",
     "text": [
      "Simple model using logistic regression and bag-of-words on FakeNews dataset:\n",
      "\n",
      "                  Predicted \"real news\"  Predicted \"fake news\"\n",
      "True \"real news\"                  35673                   6387\n",
      "True \"fake news\"                   4434                  38602\n",
      "\n",
      "Accuracy: 0.8728377362038169\n",
      "Precision: 0.8894457326651208\n",
      "Recall: 0.8481455064194009\n",
      "F1 score: 0.8683047938953594\n",
      "Simple model using logistic regression and bag-of-words on LIAR dataset:\n",
      "\n",
      "                  Predicted \"real news\"  Predicted \"fake news\"\n",
      "True \"real news\"                    247                   3391\n",
      "True \"fake news\"                    405                   6196\n",
      "\n",
      "Accuracy: 0.6292606699873035\n",
      "Precision: 0.37883435582822084\n",
      "Recall: 0.06789444749862562\n",
      "F1 score: 0.11515151515151516\n"
     ]
    }
   ],
   "source": [
    "from scipy.sparse import hstack\n",
    "from sklearn.linear_model import LogisticRegression\n",
    "from sklearn.metrics import classification_report, f1_score, accuracy_score, precision_score, recall_score, confusion_matrix\n",
    "import pickle\n",
    "import pandas as pd\n",
    "\n",
    "with open(\"../simple_model_BOW.pkl\",'rb') as f:\n",
    "    simple_model_BOW = pickle.load(f)\n",
    "\n",
    "#load features\n",
    "X_test = simple_BOW['X_test'].item()\n",
    "Y_test = simple_BOW['Y_test'].ravel()\n",
    "X_test_LIAR = liar_BOW['X_test'].item()\n",
    "Y_test_LIAR=liar_BOW['Y_test'].ravel()\n",
    "\n",
    "#validate model\n",
    "Y_pred = simple_model_BOW.predict(X_test)\n",
    "print(\"Simple model using logistic regression and bag-of-words on FakeNews dataset:\")\n",
    "df = pd.DataFrame(confusion_matrix(Y_test, Y_pred, labels=[1,0]), index=['True \"real news\"','True \"fake news\"'], columns=['Predicted \"real news\"','Predicted \"fake news\"'])\n",
    "print(f\"\\n{df}\\n\")\n",
    "print(\"Accuracy:\",accuracy_score(Y_test,Y_pred))\n",
    "print(\"Precision:\",precision_score(Y_test,Y_pred,average=\"binary\"))\n",
    "print(\"Recall:\",recall_score(Y_test,Y_pred,average=\"binary\"))\n",
    "print(\"F1 score:\",f1_score(Y_test,Y_pred,average=\"binary\"))\n",
    "#LIAR\n",
    "print(\"Simple model using logistic regression and bag-of-words on LIAR dataset:\")\n",
    "Y_pred_LIAR = simple_model_BOW.predict(X_test_LIAR)\n",
    "df = pd.DataFrame(confusion_matrix(Y_test_LIAR, Y_pred_LIAR, labels=[1,0]), index=['True \"real news\"','True \"fake news\"'], columns=['Predicted \"real news\"','Predicted \"fake news\"'])\n",
    "print(f\"\\n{df}\\n\")\n",
    "print(\"Accuracy:\",accuracy_score(Y_test_LIAR,Y_pred_LIAR))\n",
    "print(\"Precision:\",precision_score(Y_test_LIAR,Y_pred_LIAR,average=\"binary\"))\n",
    "print(\"Recall:\",recall_score(Y_test_LIAR,Y_pred_LIAR,average=\"binary\"))\n",
    "print(\"F1 score:\",f1_score(Y_test_LIAR,Y_pred_LIAR,average=\"binary\"))\n",
    "\n"
   ]
  },
  {
   "cell_type": "code",
   "execution_count": 11,
   "metadata": {},
   "outputs": [
    {
     "name": "stdout",
     "output_type": "stream",
     "text": [
      "Advanced model using multinominal naive bayes and TF-IDF on FakeNews dataset:\n",
      "\n",
      "                  Predicted \"real news\"  Predicted \"fake news\"\n",
      "True \"real news\"                  34510                   7550\n",
      "True \"fake news\"                   6746                  36290\n",
      "\n",
      "Accuracy: 0.8320015041835104\n",
      "Precision: 0.8364843901493116\n",
      "Recall: 0.8204945316214931\n",
      "F1 score: 0.8284123097604301\n",
      "Advanced model using  multinominal naive bayes and TF-IDF on LIAR dataset:\n",
      "\n",
      "                  Predicted \"real news\"  Predicted \"fake news\"\n",
      "True \"real news\"                    411                   3227\n",
      "True \"fake news\"                    536                   6065\n",
      "\n",
      "Accuracy: 0.6324836409805645\n",
      "Precision: 0.43400211193241817\n",
      "Recall: 0.11297416162726773\n",
      "F1 score: 0.17928026172300982\n"
     ]
    }
   ],
   "source": [
    "from scipy.sparse import hstack\n",
    "from sklearn.linear_model import LogisticRegression\n",
    "from sklearn.metrics import classification_report, f1_score, accuracy_score, precision_score, recall_score, confusion_matrix\n",
    "import pickle\n",
    "import pandas as pd\n",
    "\n",
    "with open(\"../advanced_model_NB.pkl\",'rb') as f:\n",
    "    advanced_model_NB = pickle.load(f)\n",
    "\n",
    "#load features\n",
    "X_test = advanced['X_test'].item()\n",
    "Y_test = advanced['Y_test'].ravel()\n",
    "X_test_LIAR = liar_TFIDF['X_test'].item()\n",
    "Y_test_LIAR=liar_TFIDF['Y_test'].ravel()\n",
    "\n",
    "#validate model\n",
    "Y_pred = advanced_model_NB.predict(X_test)\n",
    "print(\"Advanced model using multinominal naive bayes and TF-IDF on FakeNews dataset:\")\n",
    "df = pd.DataFrame(confusion_matrix(Y_test, Y_pred, labels=[1,0]), index=['True \"real news\"','True \"fake news\"'], columns=['Predicted \"real news\"','Predicted \"fake news\"'])\n",
    "print(f\"\\n{df}\\n\")\n",
    "print(\"Accuracy:\",accuracy_score(Y_test,Y_pred))\n",
    "print(\"Precision:\",precision_score(Y_test,Y_pred,average=\"binary\"))\n",
    "print(\"Recall:\",recall_score(Y_test,Y_pred,average=\"binary\"))\n",
    "print(\"F1 score:\",f1_score(Y_test,Y_pred,average=\"binary\"))\n",
    "\n",
    "#LIAR\n",
    "print(\"Advanced model using  multinominal naive bayes and TF-IDF on LIAR dataset:\")\n",
    "Y_pred_LIAR = advanced_model_NB.predict(X_test_LIAR)\n",
    "df = pd.DataFrame(confusion_matrix(Y_test_LIAR, Y_pred_LIAR, labels=[1,0]), index=['True \"real news\"','True \"fake news\"'], columns=['Predicted \"real news\"','Predicted \"fake news\"'])\n",
    "print(f\"\\n{df}\\n\")\n",
    "print(\"Accuracy:\",accuracy_score(Y_test_LIAR,Y_pred_LIAR))\n",
    "print(\"Precision:\",precision_score(Y_test_LIAR,Y_pred_LIAR,average=\"binary\"))\n",
    "print(\"Recall:\",recall_score(Y_test_LIAR,Y_pred_LIAR,average=\"binary\"))\n",
    "print(\"F1 score:\",f1_score(Y_test_LIAR,Y_pred_LIAR,average=\"binary\"))\n",
    "\n"
   ]
  },
  {
   "cell_type": "code",
   "execution_count": 12,
   "metadata": {},
   "outputs": [
    {
     "name": "stdout",
     "output_type": "stream",
     "text": [
      "Advanced model using support vector classifier and TF-IDF on FakeNews dataset:\n",
      "\n",
      "                  Predicted \"real news\"  Predicted \"fake news\"\n",
      "True \"real news\"                  36707                   5353\n",
      "True \"fake news\"                   4554                  38482\n",
      "\n",
      "Accuracy: 0.8835785465826831\n",
      "Precision: 0.8896294321514263\n",
      "Recall: 0.8727294341417023\n",
      "F1 score: 0.8810984025635794\n",
      "Advanced model using support vector classifier and TF-IDF on LIAR dataset:\n",
      "\n",
      "                  Predicted \"real news\"  Predicted \"fake news\"\n",
      "True \"real news\"                     95                   3543\n",
      "True \"fake news\"                    138                   6463\n",
      "\n",
      "Accuracy: 0.6404922355698799\n",
      "Precision: 0.40772532188841204\n",
      "Recall: 0.02611324903793293\n",
      "F1 score: 0.04908292430896409\n"
     ]
    }
   ],
   "source": [
    "from scipy.sparse import hstack\n",
    "from sklearn.linear_model import LogisticRegression\n",
    "from sklearn.metrics import classification_report, f1_score, accuracy_score, precision_score, recall_score, confusion_matrix\n",
    "import pickle\n",
    "import pandas as pd\n",
    "\n",
    "with open(\"../advanced_model_SVC.pkl\",'rb') as f:\n",
    "    advanced_model_SVC = pickle.load(f)\n",
    "\n",
    "#load features\n",
    "X_test = advanced['X_test'].item()\n",
    "Y_test = advanced['Y_test'].ravel()\n",
    "X_test_LIAR = liar_TFIDF['X_test'].item()\n",
    "Y_test_LIAR=liar_TFIDF['Y_test'].ravel()\n",
    "\n",
    "#validate model\n",
    "Y_pred = advanced_model_SVC.predict(X_test)\n",
    "print(\"Advanced model using support vector classifier and TF-IDF on FakeNews dataset:\")\n",
    "df = pd.DataFrame(confusion_matrix(Y_test, Y_pred, labels=[1,0]), index=['True \"real news\"','True \"fake news\"'], columns=['Predicted \"real news\"','Predicted \"fake news\"'])\n",
    "print(f\"\\n{df}\\n\")\n",
    "print(\"Accuracy:\",accuracy_score(Y_test,Y_pred))\n",
    "print(\"Precision:\",precision_score(Y_test,Y_pred,average=\"binary\"))\n",
    "print(\"Recall:\",recall_score(Y_test,Y_pred,average=\"binary\"))\n",
    "print(\"F1 score:\",f1_score(Y_test,Y_pred,average=\"binary\"))\n",
    "#LIAR\n",
    "print(\"Advanced model using support vector classifier and TF-IDF on LIAR dataset:\")\n",
    "Y_pred_LIAR = advanced_model_SVC.predict(X_test_LIAR)\n",
    "df = pd.DataFrame(confusion_matrix(Y_test_LIAR, Y_pred_LIAR, labels=[1,0]), index=['True \"real news\"','True \"fake news\"'], columns=['Predicted \"real news\"','Predicted \"fake news\"'])\n",
    "print(f\"\\n{df}\\n\")\n",
    "print(\"Accuracy:\",accuracy_score(Y_test_LIAR,Y_pred_LIAR))\n",
    "print(\"Precision:\",precision_score(Y_test_LIAR,Y_pred_LIAR,average=\"binary\"))\n",
    "print(\"Recall:\",recall_score(Y_test_LIAR,Y_pred_LIAR,average=\"binary\"))\n",
    "print(\"F1 score:\",f1_score(Y_test_LIAR,Y_pred_LIAR,average=\"binary\"))\n"
   ]
  }
 ],
 "metadata": {
  "kernelspec": {
   "display_name": "base",
   "language": "python",
   "name": "python3"
  },
  "language_info": {
   "codemirror_mode": {
    "name": "ipython",
    "version": 3
   },
   "file_extension": ".py",
   "mimetype": "text/x-python",
   "name": "python",
   "nbconvert_exporter": "python",
   "pygments_lexer": "ipython3",
   "version": "3.9.0"
  }
 },
 "nbformat": 4,
 "nbformat_minor": 2
}
