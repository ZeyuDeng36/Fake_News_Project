{
 "cells": [
  {
   "cell_type": "markdown",
   "metadata": {},
   "source": [
    "# Part 4: Validation and cross-domain performance"
   ]
  },
  {
   "cell_type": "code",
   "execution_count": 7,
   "metadata": {},
   "outputs": [],
   "source": [
    "import numpy as np\n",
    "from scipy.sparse import csr_matrix, hstack, save_npz\n",
    "simple = np.load('../Simple_995_BBC.npz', allow_pickle=True)\n",
    "advanced = np.load(\"../advanced_features.npz\", allow_pickle=True)\n",
    "liar = np.load(\"../LIAR_features.npz\", allow_pickle=True)"
   ]
  },
  {
   "cell_type": "markdown",
   "metadata": {},
   "source": [
    "# Simple model"
   ]
  },
  {
   "cell_type": "code",
   "execution_count": 8,
   "metadata": {},
   "outputs": [
    {
     "name": "stdout",
     "output_type": "stream",
     "text": [
      "Evaluation of simple model with logistic regression and one-hot encoding:\n",
      "              precision    recall  f1-score   support\n",
      "\n",
      "           0       0.85      0.89      0.87     43081\n",
      "           1       0.88      0.84      0.86     42014\n",
      "\n",
      "    accuracy                           0.86     85095\n",
      "   macro avg       0.86      0.86      0.86     85095\n",
      "weighted avg       0.86      0.86      0.86     85095\n",
      "\n",
      "Evaluation of simple model with logistic regression and one-hot encoding on LIAR dataset:\n",
      "              precision    recall  f1-score   support\n",
      "\n",
      "           0       0.67      1.00      0.80       863\n",
      "           1       0.00      0.00      0.00       420\n",
      "\n",
      "    accuracy                           0.67      1283\n",
      "   macro avg       0.34      0.50      0.40      1283\n",
      "weighted avg       0.45      0.67      0.54      1283\n",
      "\n"
     ]
    },
    {
     "name": "stderr",
     "output_type": "stream",
     "text": [
      "/home/zeyu/PythonEnvironments/general/lib/python3.9/site-packages/sklearn/metrics/_classification.py:1509: UndefinedMetricWarning: Precision is ill-defined and being set to 0.0 in labels with no predicted samples. Use `zero_division` parameter to control this behavior.\n",
      "  _warn_prf(average, modifier, f\"{metric.capitalize()} is\", len(result))\n",
      "/home/zeyu/PythonEnvironments/general/lib/python3.9/site-packages/sklearn/metrics/_classification.py:1509: UndefinedMetricWarning: Precision is ill-defined and being set to 0.0 in labels with no predicted samples. Use `zero_division` parameter to control this behavior.\n",
      "  _warn_prf(average, modifier, f\"{metric.capitalize()} is\", len(result))\n",
      "/home/zeyu/PythonEnvironments/general/lib/python3.9/site-packages/sklearn/metrics/_classification.py:1509: UndefinedMetricWarning: Precision is ill-defined and being set to 0.0 in labels with no predicted samples. Use `zero_division` parameter to control this behavior.\n",
      "  _warn_prf(average, modifier, f\"{metric.capitalize()} is\", len(result))\n"
     ]
    }
   ],
   "source": [
    "from scipy.sparse import hstack\n",
    "from sklearn.linear_model import LogisticRegression\n",
    "from sklearn.metrics import classification_report\n",
    "import pickle\n",
    "\n",
    "with open(\"../simple_model.pkl\",'rb') as f:\n",
    "    simple_model = pickle.load(f)\n",
    "\n",
    "#load features\n",
    "X_val = simple['X_val'].item()\n",
    "Y_val = simple['Y_val'].ravel()\n",
    "X_val_LIAR = liar['X_val'].item()\n",
    "Y_val_LIAR=liar['Y_val'].ravel()\n",
    "\n",
    "#validate model\n",
    "Y_pred = simple_model.predict(X_val)\n",
    "print(\"Evaluation of simple model with logistic regression and one-hot encoding:\")\n",
    "print(classification_report(Y_val, Y_pred))\n",
    "\n",
    "#LIAR\n",
    "print(\"Evaluation of simple model with logistic regression and one-hot encoding on LIAR dataset:\")\n",
    "Y_pred_LIAR = simple_model.predict(X_val_LIAR)\n",
    "print(classification_report(Y_val_LIAR, Y_pred_LIAR))\n",
    "\n"
   ]
  },
  {
   "cell_type": "code",
   "execution_count": 9,
   "metadata": {},
   "outputs": [
    {
     "name": "stdout",
     "output_type": "stream",
     "text": [
      "Evaluation of simple model with logistic regression and one-hot encoding:\n",
      "              precision    recall  f1-score   support\n",
      "\n",
      "           0       0.87      0.89      0.88     43081\n",
      "           1       0.88      0.86      0.87     42014\n",
      "\n",
      "    accuracy                           0.88     85095\n",
      "   macro avg       0.88      0.88      0.88     85095\n",
      "weighted avg       0.88      0.88      0.88     85095\n",
      "\n",
      "Evaluation of simple model with logistic regression and one-hot encoding on LIAR dataset:\n",
      "              precision    recall  f1-score   support\n",
      "\n",
      "           0       0.67      0.97      0.79       863\n",
      "           1       0.32      0.03      0.05       420\n",
      "\n",
      "    accuracy                           0.66      1283\n",
      "   macro avg       0.50      0.50      0.42      1283\n",
      "weighted avg       0.56      0.66      0.55      1283\n",
      "\n"
     ]
    }
   ],
   "source": [
    "from scipy.sparse import hstack\n",
    "from sklearn.linear_model import LogisticRegression\n",
    "from sklearn.metrics import classification_report\n",
    "import pickle\n",
    "\n",
    "with open(\"../advanced_model.pkl\",'rb') as f:\n",
    "    advanced_model = pickle.load(f)\n",
    "\n",
    "#load features\n",
    "X_val = advanced['X_val'].item()\n",
    "Y_val = advanced['Y_val'].ravel()\n",
    "X_val_LIAR = liar['X_val'].item()\n",
    "Y_val_LIAR=liar['Y_val'].ravel()\n",
    "\n",
    "#validate model\n",
    "Y_pred = advanced_model.predict(X_val)\n",
    "print(\"Evaluation of simple model with logistic regression and one-hot encoding:\")\n",
    "print(classification_report(Y_val, Y_pred))\n",
    "\n",
    "#LIAR\n",
    "print(\"Evaluation of simple model with logistic regression and one-hot encoding on LIAR dataset:\")\n",
    "Y_pred_LIAR = advanced_model.predict(X_val_LIAR)\n",
    "print(classification_report(Y_val_LIAR, Y_pred_LIAR))\n",
    "\n"
   ]
  }
 ],
 "metadata": {
  "kernelspec": {
   "display_name": "base",
   "language": "python",
   "name": "python3"
  },
  "language_info": {
   "codemirror_mode": {
    "name": "ipython",
    "version": 3
   },
   "file_extension": ".py",
   "mimetype": "text/x-python",
   "name": "python",
   "nbconvert_exporter": "python",
   "pygments_lexer": "ipython3",
   "version": "3.9.0"
  }
 },
 "nbformat": 4,
 "nbformat_minor": 2
}
