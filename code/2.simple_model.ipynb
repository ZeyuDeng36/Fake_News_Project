{
 "cells": [
  {
   "cell_type": "markdown",
   "metadata": {},
   "source": [
    "# Part 2: Simple model\n",
    "\n",
    "Running all models at once might crash the kernel."
   ]
  },
  {
   "cell_type": "markdown",
   "metadata": {},
   "source": [
    "# Task 0: Choice of label groups\n",
    "\n",
    "political and reliable has been chosen as \"real news\", while the rest as \"fake news\". some categories like unknown or unreliable might include legitimate articles which were put in their categories simply due to the lack of validation and confirmation. This might make it difficult for the model to correctly categorize these articles.\n"
   ]
  },
  {
   "cell_type": "code",
   "execution_count": 1,
   "metadata": {},
   "outputs": [],
   "source": [
    "import numpy as np\n",
    "from scipy.sparse import csr_matrix, hstack, save_npz\n",
    "data = np.load('../Simple_995.npz', allow_pickle=True)\n",
    "data_BBC = np.load('../Simple_995_BBC.npz', allow_pickle=True)\n"
   ]
  },
  {
   "cell_type": "markdown",
   "metadata": {},
   "source": [
    "# task 1: Simple model baselines\n",
    "\n",
    "There are two baseline models, one with one-hot encoding, the other a Bag of Words encoding. both use logistic regression, as it is the simplest classification model."
   ]
  },
  {
   "cell_type": "markdown",
   "metadata": {},
   "source": [
    "### logistic regression with one-hot encoding:\n",
    "\n",
    "This is the simplest model which made sence that we could think of. It uses one-hot representations of the articles' vocabularies to classify them. However, this representation does not take frequency into consideration, making it ineffective."
   ]
  },
  {
   "cell_type": "code",
   "execution_count": 2,
   "metadata": {},
   "outputs": [
    {
     "name": "stdout",
     "output_type": "stream",
     "text": [
      "              precision    recall  f1-score   support\n",
      "\n",
      "           0       0.87      0.22      0.35     43331\n",
      "           1       0.54      0.96      0.69     41194\n",
      "\n",
      "    accuracy                           0.58     84525\n",
      "   macro avg       0.70      0.59      0.52     84525\n",
      "weighted avg       0.71      0.58      0.52     84525\n",
      "\n"
     ]
    }
   ],
   "source": [
    "from scipy.sparse import hstack\n",
    "from sklearn.linear_model import LogisticRegression\n",
    "from sklearn.metrics import classification_report\n",
    "import pickle\n",
    "\n",
    "\n",
    "#load features\n",
    "X_train=data['X_train_content_ONEHOT'].item()\n",
    "X_val=data['X_val_content_ONEHOT'].item()\n",
    "Y_train = data['Y_train'].ravel()\n",
    "Y_val = data['Y_val'].ravel()\n",
    "\n",
    "#fit,predict and evaluate\n",
    "model = LogisticRegression(tol=1e-3, max_iter=1000,penalty = None)\n",
    "model.fit(X_train, Y_train)\n",
    "Y_pred = model.predict(X_val)\n",
    "print(classification_report(Y_val, Y_pred))\n",
    "\n",
    "with open(\"../simple_model_ONEHOT.pkl\",'wb') as f:\n",
    "    pickle.dump(model,f)\n",
    "\n",
    "del model, X_train, X_val, Y_train, Y_val, Y_pred"
   ]
  },
  {
   "cell_type": "markdown",
   "metadata": {},
   "source": [
    "### Logistic regression with Bag of words encoding:\n",
    "\n",
    "This is the simple model baseline takes frequency into consideration, and yields considerably better results.\n",
    "\n",
    "This is the simple model used from here on out, as it is simple, but not too much so."
   ]
  },
  {
   "cell_type": "code",
   "execution_count": 3,
   "metadata": {},
   "outputs": [
    {
     "name": "stdout",
     "output_type": "stream",
     "text": [
      "              precision    recall  f1-score   support\n",
      "\n",
      "           0       0.86      0.89      0.88     43331\n",
      "           1       0.88      0.84      0.86     41194\n",
      "\n",
      "    accuracy                           0.87     84525\n",
      "   macro avg       0.87      0.87      0.87     84525\n",
      "weighted avg       0.87      0.87      0.87     84525\n",
      "\n"
     ]
    }
   ],
   "source": [
    "from scipy.sparse import hstack\n",
    "from sklearn.linear_model import LogisticRegression\n",
    "from sklearn.metrics import classification_report\n",
    "import pickle\n",
    "\n",
    "\n",
    "#load features\n",
    "X_train=data['X_train_content_BOW'].item()\n",
    "X_val=data['X_val_content_BOW'].item()\n",
    "Y_train = data['Y_train'].ravel()\n",
    "Y_val = data['Y_val'].ravel()\n",
    "\n",
    "#fit,predict and evaluate\n",
    "model = LogisticRegression(tol=1e-3, max_iter=1000,penalty = None)\n",
    "model.fit(X_train, Y_train)\n",
    "Y_pred = model.predict(X_val)\n",
    "print(classification_report(Y_val, Y_pred))\n",
    "\n",
    "    \n",
    "del model, X_train, X_val, Y_train, Y_val, Y_pred"
   ]
  },
  {
   "cell_type": "markdown",
   "metadata": {},
   "source": [
    "# Task 2: Which column features might be useful"
   ]
  },
  {
   "cell_type": "markdown",
   "metadata": {},
   "source": [
    "From the data exploration, it is clear that some domains produce much more real/fake news than others. This would make domain a good indicator of fake/real news.\n",
    "\n",
    "Furthermore, the title of the article would also be helpful; \"fake\" articles, especially, especially ones like \"hate\", \"extreme bias\", \"clickbait\", etc. will have distinct titles that are provocative, misleading or exaggerated. This feature would therefore help distinguish fake/real news.\n",
    "\n",
    "The rest of the columns have too many empty cells to be used as features."
   ]
  },
  {
   "cell_type": "markdown",
   "metadata": {},
   "source": [
    "### Domain:\n",
    "\n",
    "Adding domain features to the simple model, we can see that the model gives a almost perfect prediction, which is surprising.\n",
    "\n",
    "Training the simple model with only domian features, we get a perfect prediction, indicating that the domain of an article is directly tied to it being real or fake.\n",
    "\n",
    "Because of this, it would not make sense to include domain in the model, at it effectively serves as an answer."
   ]
  },
  {
   "cell_type": "code",
   "execution_count": 2,
   "metadata": {},
   "outputs": [
    {
     "name": "stdout",
     "output_type": "stream",
     "text": [
      "Model using Content and Domain\n",
      "              precision    recall  f1-score   support\n",
      "\n",
      "           0       0.98      0.99      0.99     43331\n",
      "           1       0.99      0.98      0.98     41194\n",
      "\n",
      "    accuracy                           0.99     84525\n",
      "   macro avg       0.99      0.99      0.99     84525\n",
      "weighted avg       0.99      0.99      0.99     84525\n",
      "\n",
      "Model using Domain only\n",
      "              precision    recall  f1-score   support\n",
      "\n",
      "           0       1.00      1.00      1.00     43331\n",
      "           1       1.00      1.00      1.00     41194\n",
      "\n",
      "    accuracy                           1.00     84525\n",
      "   macro avg       1.00      1.00      1.00     84525\n",
      "weighted avg       1.00      1.00      1.00     84525\n",
      "\n"
     ]
    }
   ],
   "source": [
    "from scipy.sparse import hstack\n",
    "from sklearn.linear_model import LogisticRegression\n",
    "from sklearn.metrics import classification_report\n",
    "\n",
    "#load features\n",
    "X_train_content=data['X_train_content_BOW'].item()\n",
    "X_val_content=data['X_val_content_BOW'].item()\n",
    "X_train_domain = data['X_train_domain'].item()\n",
    "X_val_domain = data['X_val_domain'].item()\n",
    "\n",
    "Y_train = data['Y_train'].ravel()\n",
    "Y_val = data['Y_val'].ravel()\n",
    "\n",
    "#combine content and domain features\n",
    "X_train = hstack([X_train_content,X_train_domain])\n",
    "X_val = hstack([X_val_content, X_val_domain])\n",
    "\n",
    "#train predict and evaluate with content and domain\n",
    "model = LogisticRegression(tol=1e-3, max_iter=1000,penalty = None)\n",
    "model.fit(X_train, Y_train)\n",
    "Y_pred = model.predict(X_val)\n",
    "print(\"Model using Content and Domain\")\n",
    "print(classification_report(Y_val, Y_pred))\n",
    "\n",
    "#train predict and evaluate with only domain\n",
    "model1 = LogisticRegression(tol=1e-3)\n",
    "model1.fit(X_train_domain, Y_train)\n",
    "Y_pred = model1.predict(X_val_domain)\n",
    "print(\"Model using Domain only\")\n",
    "print(classification_report(Y_val, Y_pred))\n",
    "\n",
    "del model,model1, X_train_content, X_val_content,X_train_domain, X_val_domain, Y_train, Y_val, Y_pred\n"
   ]
  },
  {
   "cell_type": "markdown",
   "metadata": {},
   "source": [
    "### Title:\n",
    "\n",
    "adding title features gives much better performance. This indicates, that the title of an article helps distinguish real news from fake ones. It therefore makes sence to include title."
   ]
  },
  {
   "cell_type": "code",
   "execution_count": 2,
   "metadata": {},
   "outputs": [
    {
     "name": "stdout",
     "output_type": "stream",
     "text": [
      "Model using Content and Title\n",
      "              precision    recall  f1-score   support\n",
      "\n",
      "           0       0.90      0.90      0.90     43331\n",
      "           1       0.90      0.89      0.89     41194\n",
      "\n",
      "    accuracy                           0.90     84525\n",
      "   macro avg       0.90      0.90      0.90     84525\n",
      "weighted avg       0.90      0.90      0.90     84525\n",
      "\n"
     ]
    }
   ],
   "source": [
    "from scipy.sparse import hstack\n",
    "from sklearn.linear_model import LogisticRegression\n",
    "from sklearn.metrics import classification_report\n",
    "\n",
    "#load features\n",
    "X_train_content=data['X_train_content_BOW'].item()\n",
    "X_val_content=data['X_val_content_BOW'].item()\n",
    "X_train_title = data['X_train_title'].item()\n",
    "X_val_title = data['X_val_title'].item()\n",
    "Y_train = data['Y_train'].ravel()\n",
    "Y_val = data['Y_val'].ravel()\n",
    "\n",
    "#combine content and domain features\n",
    "X_train = hstack([X_train_content,X_train_title])\n",
    "X_val = hstack([X_val_content, X_val_title])\n",
    "\n",
    "#train predict and evaluate with content and domain\n",
    "model = LogisticRegression(tol=1e-3, max_iter=1000,penalty = None)\n",
    "model.fit(X_train, Y_train)\n",
    "Y_pred = model.predict(X_val)\n",
    "print(\"Model using Content and Title\")\n",
    "print(classification_report(Y_val, Y_pred))\n",
    "del model, X_train_content, X_val_content,X_train_title, X_val_title, Y_train, Y_val, Y_pred\n"
   ]
  },
  {
   "cell_type": "markdown",
   "metadata": {},
   "source": [
    "# task 3: Simple model with added BBC articles\n",
    "\n",
    "Adding the BBC articles, there isnt much difference in the result. However, since the dataset had slightly more fake articles, the BBC articles are included. They make the dataset just a bit more balanced, and more data can't hurt."
   ]
  },
  {
   "cell_type": "code",
   "execution_count": 2,
   "metadata": {},
   "outputs": [
    {
     "name": "stdout",
     "output_type": "stream",
     "text": [
      "              precision    recall  f1-score   support\n",
      "\n",
      "           0       0.86      0.89      0.88     43081\n",
      "           1       0.89      0.85      0.87     42014\n",
      "\n",
      "    accuracy                           0.87     85095\n",
      "   macro avg       0.87      0.87      0.87     85095\n",
      "weighted avg       0.87      0.87      0.87     85095\n",
      "\n"
     ]
    }
   ],
   "source": [
    "from scipy.sparse import hstack\n",
    "from sklearn.linear_model import LogisticRegression\n",
    "from sklearn.metrics import classification_report\n",
    "import pickle\n",
    "\n",
    "#load features\n",
    "X_train=data_BBC['X_train'].item()\n",
    "X_val = data_BBC['X_val'].item()\n",
    "Y_train = data_BBC['Y_train'].ravel()\n",
    "Y_val = data_BBC['Y_val'].ravel()\n",
    "\n",
    "#fit,predict and evaluate\n",
    "model = LogisticRegression(tol=1e-3, max_iter=1000,penalty = None)\n",
    "model.fit(X_train, Y_train)\n",
    "Y_pred = model.predict(X_val)\n",
    "print(classification_report(Y_val, Y_pred))\n",
    "\n",
    "with open(\"../simple_model_BOW.pkl\",'wb') as f:\n",
    "    pickle.dump(model,f)\n",
    "    \n",
    "del model, X_train, X_val, Y_train, Y_val, Y_pred"
   ]
  }
 ],
 "metadata": {
  "kernelspec": {
   "display_name": "base",
   "language": "python",
   "name": "python3"
  },
  "language_info": {
   "codemirror_mode": {
    "name": "ipython",
    "version": 3
   },
   "file_extension": ".py",
   "mimetype": "text/x-python",
   "name": "python",
   "nbconvert_exporter": "python",
   "pygments_lexer": "ipython3",
   "version": "3.9.0"
  }
 },
 "nbformat": 4,
 "nbformat_minor": 2
}
